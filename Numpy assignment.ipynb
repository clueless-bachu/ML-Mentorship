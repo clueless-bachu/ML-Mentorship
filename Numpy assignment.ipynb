{
 "cells": [
  {
   "cell_type": "code",
   "execution_count": 1,
   "metadata": {},
   "outputs": [
    {
     "data": {
      "text/plain": [
       "'Link to the numpy docs: https://docs.scipy.org/doc/numpy-1.13.0/reference/'"
      ]
     },
     "execution_count": 1,
     "metadata": {},
     "output_type": "execute_result"
    }
   ],
   "source": [
    "import numpy as np\n",
    "\"\"\"Link to the numpy docs: https://docs.scipy.org/doc/numpy-1.13.0/reference/\"\"\""
   ]
  },
  {
   "cell_type": "code",
   "execution_count": 4,
   "metadata": {},
   "outputs": [],
   "source": [
    "def get_range(start, end, step):\n",
    "    \"\"\"Return an array of given range with specific step\"\"\"\n",
    "    #initialize array\n",
    "    \n",
    "    #define the function to assign the elements\n",
    "    \n",
    "    #return the array\n",
    "    return(np.arange(start,end,step))"
   ]
  },
  {
   "cell_type": "code",
   "execution_count": 5,
   "metadata": {},
   "outputs": [],
   "source": [
    "def new_shape(old_array, new_shape):\n",
    "    \"\"\"Return an array of given shape\"\"\"\n",
    "    #check if array can be reshaped to given dimensions\n",
    "    \n",
    "    #define the function to reshape the array\n",
    "    \n",
    "    #return the array\n",
    "    return(np.reshape(old_array,new_shape))"
   ]
  },
  {
   "cell_type": "code",
   "execution_count": 8,
   "metadata": {},
   "outputs": [],
   "source": [
    "def reverse_array(old_array):\n",
    "    \"\"\"Return the reversed array\"\"\"\n",
    "    #initialize array\n",
    "    \n",
    "    #define function to reverse array\n",
    "    \n",
    "    #return the array\n",
    "    return(old_array[::-1])"
   ]
  },
  {
   "cell_type": "code",
   "execution_count": 9,
   "metadata": {},
   "outputs": [],
   "source": [
    "def stack_lists(lists):\n",
    "    \"\"\"Return an array containing lists stacked horizontally\"\"\"\n",
    "    #initialize array\n",
    "    \n",
    "    #define function to return array with stacked lists given whether arrays to be stacked horizontally or vertically\n",
    "    \n",
    "    #return the array\n",
    "    return(np.hstack(lists))"
   ]
  },
  {
   "cell_type": "code",
   "execution_count": 17,
   "metadata": {},
   "outputs": [],
   "source": [
    "def get_trignometric_values(angles):\n",
    "    \"\"\"Return an array containing sine, cosine and tangent values of the given angle stacked horizontally\"\"\"\n",
    "    from math import sin,cos, tan\n",
    "    #initialize array\n",
    "\n",
    "    #define sine function\n",
    "    sines = np.array([sin(i) for i in angles])\n",
    "    #define cosine function\n",
    "    cosines = np.array([cos(i) for i in angles])\n",
    "    #define tangent function\n",
    "    tangents = np.array([tan(i) for i in angles])\n",
    "    #define function to return array with stacked lists\n",
    "    trigo_val = np.array([sines,cosines,tangents])\n",
    "    trigo_val = np.hstack(trigo_val.T)\n",
    "    #return the array\n",
    "    return trigo_val"
   ]
  },
  {
   "cell_type": "code",
   "execution_count": 18,
   "metadata": {},
   "outputs": [],
   "source": [
    "def invert_array(array):\n",
    "    \"\"\"Return the pseudo inverse of the given array; read more about pseudo inverse at: \n",
    "    https://en.wikipedia.org/wiki/Moore%E2%80%93Penrose_inverse\"\"\"\n",
    "    #define function to invert array\n",
    "    \n",
    "    #return the array\n",
    "    return np.linalg.inv(array)"
   ]
  },
  {
   "cell_type": "code",
   "execution_count": 19,
   "metadata": {},
   "outputs": [],
   "source": [
    "def flatten_array(array):\n",
    "    \"\"\"Return the flattened array\"\"\"\n",
    "    #define function to flatten array\n",
    "    \n",
    "    #return the array\n",
    "    return np.ndarray.flatten"
   ]
  },
  {
   "cell_type": "code",
   "execution_count": 20,
   "metadata": {},
   "outputs": [],
   "source": [
    "def add_noise(array, mean, std):\n",
    "    \"\"\"Add gaussian noise with given mean and standard deviation; read more about the normal distribution at:\n",
    "    https://en.wikipedia.org/wiki/Normal_distribution\"\"\"\n",
    "    #define function to add noise with the given mean and standard deviation\n",
    "    from random import gauss\n",
    "    #return the array\n",
    "    arr = np.array([i+gauss(mean.std) for i in array])\n",
    "    return(arr)"
   ]
  },
  {
   "cell_type": "code",
   "execution_count": 30,
   "metadata": {},
   "outputs": [],
   "source": [
    "def expand_array(array, axis):\n",
    "    \"\"\"Return an array expanded along the column\"\"\"\n",
    "    #define function to expand array\n",
    "    \n",
    "    #return the array\n",
    "    return np.expand_dims(array,axis)"
   ]
  },
  {
   "cell_type": "code",
   "execution_count": 34,
   "metadata": {},
   "outputs": [],
   "source": [
    "def sigmoid_fn(array):\n",
    "    \"\"\"Return an array with the sigmoid values\"\"\"\n",
    "    #define sigmoid function\n",
    "    from math import exp\n",
    "    def sigmoid(x):\n",
    "        return 1 / (1 + exp(-x))\n",
    "    #return the array\n",
    "    \n",
    "    return np.array([sigmoid(i) for i in array])"
   ]
  },
  {
   "cell_type": "code",
   "execution_count": 35,
   "metadata": {},
   "outputs": [],
   "source": [
    "def get_means(array):\n",
    "    \"\"\"Return arithmetic mean, geometric mean, harmonic mean and log means in a column array\"\"\"\n",
    "    from scipy.stats.mstats import hmean,gmean \n",
    "    #define function for arithmetic mean\n",
    "    mean = np.mean(array)\n",
    "    #define function for geometric mean\n",
    "    geo_mean= gmean(array)\n",
    "    #define function for harmonic mean\n",
    "    har_mean = hmean(array)\n",
    "    #define function for log means\n",
    "    \n",
    "    #stack the means in an array\n",
    "    \n",
    "    #return the array\n",
    "    return()"
   ]
  },
  {
   "cell_type": "code",
   "execution_count": 41,
   "metadata": {},
   "outputs": [],
   "source": [
    "def return_count(array, threshold):\n",
    "    \"\"\"Return the number of elements above the threshold in an array\"\"\"\n",
    "    array=np.array(array)\n",
    "    #define function to count the number of elements above the threshold\n",
    "    #return the value\n",
    "    return(sum(array>threshold))"
   ]
  },
  {
   "cell_type": "code",
   "execution_count": 42,
   "metadata": {},
   "outputs": [],
   "source": [
    "def column_sum(array, column_no):\n",
    "    \"\"\"Return the sum of all the elements in a column of the array\"\"\"\n",
    "    #check if column exists in array, else return(np.nan)\n",
    "    try:\n",
    "        return sum(array[:,column_no])\n",
    "    except:\n",
    "        return np.nan\n",
    "    #define function to return the sum of elements in the given column\n",
    "    \n",
    "    #return the value"
   ]
  },
  {
   "cell_type": "code",
   "execution_count": 44,
   "metadata": {},
   "outputs": [],
   "source": [
    "def row_sum(array, row_no):\n",
    "    \"\"\"Return the sum of all the elements in a row of the array\"\"\"\n",
    "    #check if row exists in array, else return(np.nan)\n",
    "    try:\n",
    "        return sum(array[row_no,:])\n",
    "    except:\n",
    "        return np.nan"
   ]
  },
  {
   "cell_type": "code",
   "execution_count": 45,
   "metadata": {},
   "outputs": [],
   "source": [
    "def check_diag(array):\n",
    "    \"\"\"Return True if the matrix is diagonal\"\"\"\n",
    "    #define function to chweck if the matrix is diagonal\n",
    "    for i in range(len(array)):\n",
    "        for j in range(len(array)):\n",
    "            if i!=j:\n",
    "                if array[i][j]!=0:\n",
    "                    return False\n",
    "    return True\n",
    "    #return True/False\n",
    "    return()"
   ]
  }
 ],
 "metadata": {
  "kernelspec": {
   "display_name": "Python 3",
   "language": "python",
   "name": "python3"
  },
  "language_info": {
   "codemirror_mode": {
    "name": "ipython",
    "version": 3
   },
   "file_extension": ".py",
   "mimetype": "text/x-python",
   "name": "python",
   "nbconvert_exporter": "python",
   "pygments_lexer": "ipython3",
   "version": "3.6.5"
  }
 },
 "nbformat": 4,
 "nbformat_minor": 2
}
